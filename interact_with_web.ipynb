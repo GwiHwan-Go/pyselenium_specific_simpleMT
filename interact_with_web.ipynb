{
 "cells": [
  {
   "cell_type": "code",
   "execution_count": 1,
   "metadata": {},
   "outputs": [],
   "source": [
    "from selenium import webdriver\n",
    "from selenium.webdriver.common.by import By\n",
    "from selenium.webdriver.support.ui import WebDriverWait\n",
    "from selenium.webdriver.support import expected_conditions as EC\n",
    "from selenium.webdriver.common.keys import Keys\n",
    "import time\n",
    "import os\n",
    "from collections import defaultdict\n",
    "from tqdm.auto import tqdm"
   ]
  },
  {
   "cell_type": "code",
   "execution_count": 3,
   "metadata": {},
   "outputs": [],
   "source": [
    "def login(Id, password,driver):\n",
    "\n",
    "    #input : Id and password of user, and driver which is webdriver object\n",
    "    #output : None\n",
    "    \n",
    "    driver.implicitly_wait(4)\n",
    "    driver.find_element(By.XPATH, '//*[@id=\"root\"]/div[2]/div/div[2]/div/div[2]/div/div/div/div/form/div[1]/div/input').send_keys(Id)\n",
    "    driver.find_element(By.XPATH, '//*[@id=\"root\"]/div[2]/div/div[2]/div/div[2]/div/div/div/div/form/div[2]/div/input').send_keys(password) \n",
    "                                                    \n",
    "    click_to_login = WebDriverWait(driver,10).until(EC.element_to_be_clickable((By.XPATH,'//*[@id=\"root\"]/div[2]/div/div[2]/div/div[2]/div/div/div/div/form/div[4]/button')))\n",
    "    click_to_login.click()\n",
    "\n",
    "def move_to_lasttab(driver):\n",
    "    last_tab = driver.window_handles[-1]\n",
    "    driver.switch_to.window(window_name=last_tab)"
   ]
  },
  {
   "cell_type": "code",
   "execution_count": 4,
   "metadata": {},
   "outputs": [
    {
     "name": "stderr",
     "output_type": "stream",
     "text": [
      "/Users/gwihwango/.pyenv/versions/3.7.3/lib/python3.7/site-packages/ipykernel_launcher.py:7: DeprecationWarning: executable_path has been deprecated, please pass in a Service object\n",
      "  import sys\n",
      "/Users/gwihwango/.pyenv/versions/3.7.3/lib/python3.7/site-packages/ipykernel_launcher.py:7: DeprecationWarning: use options instead of chrome_options\n",
      "  import sys\n"
     ]
    }
   ],
   "source": [
    "from Local import id,pwd,url\n",
    "\n",
    "chrome_options = webdriver.ChromeOptions()\n",
    "prefs = {'download.default_directory' : os.getcwd()}\n",
    "chrome_options.add_experimental_option('prefs', prefs)\n",
    "\n",
    "driver = webdriver.Chrome('../chromedriver', chrome_options=chrome_options)\n",
    "driver.get(url)\n",
    "time.sleep(1)\n",
    "login(id, pwd, driver)\n",
    "\n",
    "time.sleep(10)\n",
    "\n",
    "click_projects= WebDriverWait(driver,10).until(EC.element_to_be_clickable((By.XPATH,'//*[@id=\"header_sections\"]/li[3]/a')))\n",
    "click_projects.click()\n",
    "time.sleep(3)\n",
    "working_project= WebDriverWait(driver,10).until(EC.element_to_be_clickable((By.XPATH,'//*[@id=\"main_content\"]/div[3]/div/div/div[3]/div[1]/div[1]/div[1]/div[1]/div/a')))\n",
    "working_project.click()\n",
    "\n",
    "time.sleep(1)\n",
    "move_to_lasttab(driver)\n",
    "\n",
    "# download_csv= WebDriverWait(driver,10).until(EC.element_to_be_clickable((By.XPATH,'//*[@id=\"link_rsc-6297134389ada2-91732807_37480453\"]')))\n",
    "# download_csv.click()\n",
    "# time.sleep(1)\n",
    "# open_editor= WebDriverWait(driver,10).until(EC.element_to_be_clickable((By.XPATH,'//*[@id=\"link_rsc-629b91d2853744-83832686\"]')))\n",
    "# open_editor.click()\n",
    "\n",
    "# move_to_lasttab(driver)\n",
    "#####At Editor#######\n",
    "\n",
    "# error\n",
    "\n",
    "\n",
    "\n",
    "# move_to_lasttab(driver)\n",
    "\n",
    "####Moving to project####\n",
    "#########################\n",
    "# last_tab = driver.window_handles[-1]\n",
    "# driver.switch_to.window(window_name=last_tab)"
   ]
  },
  {
   "cell_type": "code",
   "execution_count": 46,
   "metadata": {},
   "outputs": [
    {
     "data": {
      "text/plain": [
       "200"
      ]
     },
     "execution_count": 46,
     "metadata": {},
     "output_type": "execute_result"
    }
   ],
   "source": [
    "###preprocess inputlist###\n",
    "def preprocess_txtfile(txt_path) :\n",
    "\n",
    "    with open(txt_path, \"r\") as f :\n",
    "        li = f.readlines()\n",
    "\n",
    "    f.close()\n",
    "    li = [i.strip() for i in li]\n",
    "    li = list(filter(lambda x : x!='', li))\n",
    "\n",
    "    for i in range(0,len(li),4) :\n",
    "        li[i] = int(li[i][:-1])\n",
    "\n",
    "    new_li=[]\n",
    "    for i in range(len(li)) :\n",
    "        if i%4 == 1 or i%4 == 0:\n",
    "            continue\n",
    "        if i%4 == 3 :\n",
    "            st = li[i]\n",
    "            st = st.split(',')\n",
    "            st = [i.strip() for i in st if len(i)>1]\n",
    "            new_li.append(', '.join(st))\n",
    "        if i%4 ==2 :\n",
    "            new_li.append(li[i])\n",
    "    return new_li\n",
    "\n",
    "li = preprocess_txtfile(f\"{os.getcwd()}/working/work.txt\")\n",
    "\n",
    "len(li)"
   ]
  },
  {
   "cell_type": "code",
   "execution_count": 15,
   "metadata": {},
   "outputs": [],
   "source": [
    "move_to_lasttab(driver)"
   ]
  },
  {
   "cell_type": "code",
   "execution_count": 17,
   "metadata": {},
   "outputs": [
    {
     "ename": "NameError",
     "evalue": "name 'li' is not defined",
     "output_type": "error",
     "traceback": [
      "\u001b[0;31m---------------------------------------------------------------------------\u001b[0m",
      "\u001b[0;31mNameError\u001b[0m                                 Traceback (most recent call last)",
      "\u001b[0;32m/var/folders/jt/jg8f8t5d5l94gkq96yn3k41h0000gn/T/ipykernel_56426/3392858656.py\u001b[0m in \u001b[0;36m<module>\u001b[0;34m\u001b[0m\n\u001b[1;32m     15\u001b[0m             \u001b[0midx\u001b[0m\u001b[0;34m+=\u001b[0m\u001b[0;36m1\u001b[0m\u001b[0;34m\u001b[0m\u001b[0;34m\u001b[0m\u001b[0m\n\u001b[1;32m     16\u001b[0m     \u001b[0mprint\u001b[0m\u001b[0;34m(\u001b[0m\u001b[0;34m\"Completed Writing\"\u001b[0m\u001b[0;34m)\u001b[0m\u001b[0;34m\u001b[0m\u001b[0;34m\u001b[0m\u001b[0m\n\u001b[0;32m---> 17\u001b[0;31m \u001b[0mwrite_from_processed_txt\u001b[0m\u001b[0;34m(\u001b[0m\u001b[0mdriver\u001b[0m\u001b[0;34m,\u001b[0m \u001b[0mli\u001b[0m\u001b[0;34m)\u001b[0m\u001b[0;34m\u001b[0m\u001b[0;34m\u001b[0m\u001b[0m\n\u001b[0m",
      "\u001b[0;31mNameError\u001b[0m: name 'li' is not defined"
     ]
    }
   ],
   "source": [
    "def write_from_processed_txt(driver, li):\n",
    "    \"\"\"\n",
    "    ##write the list on the ediotr##\n",
    "    We should be on the editor page, the driver should be attend on editor page\n",
    "    ex) after move_to_last_tab()\n",
    "    \"\"\"\n",
    "    ##write the list on the ediotr##\n",
    "    idx=0\n",
    "    for row in tqdm(range(1,101)) :\n",
    "        for col in range(1,3) :\n",
    "            input_path = f'//*[@id=\"resources\"]/div[1]/div[2]/div[1]/div[2]/div[{row*2}]/div[2]/div/div[{col}]/textarea'\n",
    "            input_box= WebDriverWait(driver,10).until(EC.element_to_be_clickable((By.XPATH,input_path)))\n",
    "            input_box.clear()\n",
    "            input_box.send_keys(li[idx])\n",
    "            idx+=1\n",
    "    print(\"Completed Writing\")\n",
    "write_from_processed_txt(driver, li)"
   ]
  },
  {
   "cell_type": "code",
   "execution_count": 18,
   "metadata": {},
   "outputs": [
    {
     "name": "stderr",
     "output_type": "stream",
     "text": [
      "/Users/gwihwango/.pyenv/versions/3.7.3/lib/python3.7/site-packages/ipykernel_launcher.py:8: DeprecationWarning: find_element_by_xpath is deprecated. Please use find_element(by=By.XPATH, value=xpath) instead\n",
      "  \n"
     ]
    },
    {
     "name": "stdout",
     "output_type": "stream",
     "text": [
      "2 Spelling Errors\n",
      "3 Spelling Errors\n",
      "4 Spelling Errors\n",
      "4 Capitalization\n",
      "5 Spelling Errors\n",
      "23 Spelling Errors\n",
      "39 Spelling Errors\n",
      "40 Spelling Errors\n",
      "41 Spelling Errors\n",
      "43 Spelling Errors\n",
      "45 Spelling Errors\n",
      "46 Spelling Errors\n",
      "51 Spelling Errors\n",
      "51 Numeric Mismatches\n",
      "53 Spelling Errors\n",
      "53 Numeric Mismatches\n",
      "54 Spelling Errors\n",
      "57 Spelling Errors\n",
      "60 Spelling Errors\n",
      "60 Numeric Mismatches\n",
      "61 Spelling Errors\n",
      "61 Numeric Mismatches\n",
      "62 Spelling Errors\n",
      "64 Spelling Errors\n",
      "65 Spelling Errors\n",
      "66 Spelling Errors\n",
      "67 Spelling Errors\n",
      "67 Numeric Mismatches\n",
      "68 Spelling Errors\n",
      "69 Spelling Errors\n",
      "70 Spelling Errors\n",
      "70 Capitalization\n",
      "73 Spelling Errors\n",
      "73 Numeric Mismatches\n",
      "76 Spelling Errors\n",
      "76 Numeric Mismatches\n",
      "77 Spelling Errors\n",
      "77 Numeric Mismatches\n",
      "79 Spelling Errors\n",
      "79 Numeric Mismatches\n",
      "80 Spelling Errors\n",
      "82 Spelling Errors\n",
      "82 Numeric Mismatches\n",
      "84 Spelling Errors\n",
      "86 Spelling Errors\n",
      "89 Spelling Errors\n",
      "90 Spelling Errors\n",
      "90 Numeric Mismatches\n",
      "92 Spelling Errors\n",
      "97 Spelling Errors\n",
      "97 Numeric Mismatches\n",
      "98 Spelling Errors\n",
      "99 Spelling Errors\n",
      "99 Numeric Mismatches\n",
      "99 Capitalization\n",
      "There is no more Errors\n"
     ]
    }
   ],
   "source": [
    "######delete error#######\n",
    "def click_errors(driver) :\n",
    "    irrelvant_btn_path = '//*[@id=\"modal_confirm_dialog\"]/div[2]/div/div[3]/button[2]'\n",
    "    for row in range(1,101) :\n",
    "        for kind in range(1,8) :\n",
    "            error_path = f'//*[@id=\"resources\"]/div[1]/div[2]/div[1]/div[2]/div[{row*2}]/div[3]/div/div[{kind}]/div[1]'\n",
    "            # //*[@id=\"resources\"]/div[1]/div[2]/div[1]/div[2]/div[8]/div[3]/div/div[5]/div[1]\n",
    "            error = driver.find_element_by_xpath(error_path)\n",
    "            if error.is_displayed() :\n",
    "                print(row, error.text)\n",
    "                error.click()\n",
    "                irrelvant_btn= WebDriverWait(driver,10).until(EC.element_to_be_clickable((By.XPATH,irrelvant_btn_path)))\n",
    "                irrelvant_btn.click()\n",
    "    \n",
    "    print(\"There is no more Errors, Now click save & continue\")\n",
    "    save_continue_btn= WebDriverWait(driver,10).until(EC.element_to_be_clickable((By.XPATH,'//*[@id=\"save\"]')))\n",
    "    save_continue_btn.click()\n",
    "    print(\"move to projects list\")\n",
    "    projects_btn= WebDriverWait(driver,10).until(EC.element_to_be_clickable((By.XPATH,'//*[@id=\"header_sections\"]/li[3]/a')))\n",
    "    projects_btn.click()\n",
    "click_errors(driver)\n"
   ]
  }
 ],
 "metadata": {
  "interpreter": {
   "hash": "95cb90694882dadca987f5fb6182f3bb000d75c3a77cb8ddf9893f9283882476"
  },
  "kernelspec": {
   "display_name": "py_seleminum",
   "language": "python",
   "name": "py_selenium"
  },
  "language_info": {
   "codemirror_mode": {
    "name": "ipython",
    "version": 3
   },
   "file_extension": ".py",
   "mimetype": "text/x-python",
   "name": "python",
   "nbconvert_exporter": "python",
   "pygments_lexer": "ipython3",
   "version": "3.7.3"
  },
  "orig_nbformat": 4
 },
 "nbformat": 4,
 "nbformat_minor": 2
}
