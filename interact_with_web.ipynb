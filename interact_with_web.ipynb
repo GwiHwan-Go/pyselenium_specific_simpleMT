{
 "cells": [
  {
   "cell_type": "code",
   "execution_count": 2,
   "metadata": {},
   "outputs": [],
   "source": [
    "from selenium import webdriver\n",
    "from selenium.webdriver.common.by import By\n",
    "from selenium.webdriver.support.ui import WebDriverWait\n",
    "from selenium.webdriver.support import expected_conditions as EC\n",
    "from selenium.webdriver.common.keys import Keys\n",
    "import time\n",
    "import os\n",
    "from collections import defaultdict\n",
    "from tqdm.auto import tqdm"
   ]
  },
  {
   "cell_type": "code",
   "execution_count": 3,
   "metadata": {},
   "outputs": [],
   "source": [
    "def login(Id, password,driver):\n",
    "\n",
    "    #input : Id and password of user, and driver which is webdriver object\n",
    "    #output : None\n",
    "    \n",
    "    driver.implicitly_wait(4)\n",
    "    driver.find_element(By.XPATH, '//*[@id=\"root\"]/div[2]/div/div[2]/div/div[2]/div/div/div/div/form/div[1]/div/input').send_keys(Id)\n",
    "    driver.find_element(By.XPATH, '//*[@id=\"root\"]/div[2]/div/div[2]/div/div[2]/div/div/div/div/form/div[2]/div/input').send_keys(password) \n",
    "                                                    \n",
    "    click_to_login = WebDriverWait(driver,10).until(EC.element_to_be_clickable((By.XPATH,'//*[@id=\"root\"]/div[2]/div/div[2]/div/div[2]/div/div/div/div/form/div[4]/button')))\n",
    "    click_to_login.click()\n",
    "\n",
    "def move_to_lasttab(driver):\n",
    "    last_tab = driver.window_handles[-1]\n",
    "    driver.switch_to.window(window_name=last_tab)"
   ]
  },
  {
   "cell_type": "code",
   "execution_count": 5,
   "metadata": {},
   "outputs": [
    {
     "name": "stderr",
     "output_type": "stream",
     "text": [
      "/Users/gwihwango/.pyenv/versions/3.7.3/lib/python3.7/site-packages/ipykernel_launcher.py:7: DeprecationWarning: executable_path has been deprecated, please pass in a Service object\n",
      "  import sys\n",
      "/Users/gwihwango/.pyenv/versions/3.7.3/lib/python3.7/site-packages/ipykernel_launcher.py:7: DeprecationWarning: use options instead of chrome_options\n",
      "  import sys\n"
     ]
    },
    {
     "ename": "TimeoutException",
     "evalue": "Message: \nStacktrace:\n0   chromedriver                        0x000000010e71c2c9 chromedriver + 5120713\n1   chromedriver                        0x000000010e6aae33 chromedriver + 4656691\n2   chromedriver                        0x000000010e29a158 chromedriver + 393560\n3   chromedriver                        0x000000010e2ceedd chromedriver + 610013\n4   chromedriver                        0x000000010e2cf161 chromedriver + 610657\n5   chromedriver                        0x000000010e301244 chromedriver + 815684\n6   chromedriver                        0x000000010e2ec4ad chromedriver + 730285\n7   chromedriver                        0x000000010e2fef41 chromedriver + 806721\n8   chromedriver                        0x000000010e2ec373 chromedriver + 729971\n9   chromedriver                        0x000000010e2c2609 chromedriver + 558601\n10  chromedriver                        0x000000010e2c3635 chromedriver + 562741\n11  chromedriver                        0x000000010e6eeb1d chromedriver + 4934429\n12  chromedriver                        0x000000010e6f3295 chromedriver + 4952725\n13  chromedriver                        0x000000010e6f83cf chromedriver + 4973519\n14  chromedriver                        0x000000010e6f3cba chromedriver + 4955322\n15  chromedriver                        0x000000010e6ce37c chromedriver + 4801404\n16  chromedriver                        0x000000010e70dc68 chromedriver + 5061736\n17  chromedriver                        0x000000010e70ddef chromedriver + 5062127\n18  chromedriver                        0x000000010e7235e5 chromedriver + 5150181\n19  libsystem_pthread.dylib             0x00007fff6e82d109 _pthread_start + 148\n20  libsystem_pthread.dylib             0x00007fff6e828b8b thread_start + 15\n",
     "output_type": "error",
     "traceback": [
      "\u001b[0;31m---------------------------------------------------------------------------\u001b[0m",
      "\u001b[0;31mTimeoutException\u001b[0m                          Traceback (most recent call last)",
      "\u001b[0;32m/var/folders/jt/jg8f8t5d5l94gkq96yn3k41h0000gn/T/ipykernel_10231/2630060231.py\u001b[0m in \u001b[0;36m<module>\u001b[0;34m\u001b[0m\n\u001b[1;32m     15\u001b[0m \u001b[0mclick_projects\u001b[0m\u001b[0;34m.\u001b[0m\u001b[0mclick\u001b[0m\u001b[0;34m(\u001b[0m\u001b[0;34m)\u001b[0m\u001b[0;34m\u001b[0m\u001b[0;34m\u001b[0m\u001b[0m\n\u001b[1;32m     16\u001b[0m \u001b[0mtime\u001b[0m\u001b[0;34m.\u001b[0m\u001b[0msleep\u001b[0m\u001b[0;34m(\u001b[0m\u001b[0;36m3\u001b[0m\u001b[0;34m)\u001b[0m\u001b[0;34m\u001b[0m\u001b[0;34m\u001b[0m\u001b[0m\n\u001b[0;32m---> 17\u001b[0;31m \u001b[0mworking_project\u001b[0m\u001b[0;34m=\u001b[0m \u001b[0mWebDriverWait\u001b[0m\u001b[0;34m(\u001b[0m\u001b[0mdriver\u001b[0m\u001b[0;34m,\u001b[0m\u001b[0;36m10\u001b[0m\u001b[0;34m)\u001b[0m\u001b[0;34m.\u001b[0m\u001b[0muntil\u001b[0m\u001b[0;34m(\u001b[0m\u001b[0mEC\u001b[0m\u001b[0;34m.\u001b[0m\u001b[0melement_to_be_clickable\u001b[0m\u001b[0;34m(\u001b[0m\u001b[0;34m(\u001b[0m\u001b[0mBy\u001b[0m\u001b[0;34m.\u001b[0m\u001b[0mXPATH\u001b[0m\u001b[0;34m,\u001b[0m\u001b[0;34m'//*[@id=\"main_content\"]/div[3]/div/div/div[3]/div[1]/div[1]/div[1]/div[1]/div/a'\u001b[0m\u001b[0;34m)\u001b[0m\u001b[0;34m)\u001b[0m\u001b[0;34m)\u001b[0m\u001b[0;34m\u001b[0m\u001b[0;34m\u001b[0m\u001b[0m\n\u001b[0m\u001b[1;32m     18\u001b[0m \u001b[0mworking_project\u001b[0m\u001b[0;34m.\u001b[0m\u001b[0mclick\u001b[0m\u001b[0;34m(\u001b[0m\u001b[0;34m)\u001b[0m\u001b[0;34m\u001b[0m\u001b[0;34m\u001b[0m\u001b[0m\n\u001b[1;32m     19\u001b[0m \u001b[0;34m\u001b[0m\u001b[0m\n",
      "\u001b[0;32m~/.pyenv/versions/3.7.3/lib/python3.7/site-packages/selenium/webdriver/support/wait.py\u001b[0m in \u001b[0;36muntil\u001b[0;34m(self, method, message)\u001b[0m\n\u001b[1;32m     87\u001b[0m             \u001b[0;32mif\u001b[0m \u001b[0mtime\u001b[0m\u001b[0;34m.\u001b[0m\u001b[0mmonotonic\u001b[0m\u001b[0;34m(\u001b[0m\u001b[0;34m)\u001b[0m \u001b[0;34m>\u001b[0m \u001b[0mend_time\u001b[0m\u001b[0;34m:\u001b[0m\u001b[0;34m\u001b[0m\u001b[0;34m\u001b[0m\u001b[0m\n\u001b[1;32m     88\u001b[0m                 \u001b[0;32mbreak\u001b[0m\u001b[0;34m\u001b[0m\u001b[0;34m\u001b[0m\u001b[0m\n\u001b[0;32m---> 89\u001b[0;31m         \u001b[0;32mraise\u001b[0m \u001b[0mTimeoutException\u001b[0m\u001b[0;34m(\u001b[0m\u001b[0mmessage\u001b[0m\u001b[0;34m,\u001b[0m \u001b[0mscreen\u001b[0m\u001b[0;34m,\u001b[0m \u001b[0mstacktrace\u001b[0m\u001b[0;34m)\u001b[0m\u001b[0;34m\u001b[0m\u001b[0;34m\u001b[0m\u001b[0m\n\u001b[0m\u001b[1;32m     90\u001b[0m \u001b[0;34m\u001b[0m\u001b[0m\n\u001b[1;32m     91\u001b[0m     \u001b[0;32mdef\u001b[0m \u001b[0muntil_not\u001b[0m\u001b[0;34m(\u001b[0m\u001b[0mself\u001b[0m\u001b[0;34m,\u001b[0m \u001b[0mmethod\u001b[0m\u001b[0;34m,\u001b[0m \u001b[0mmessage\u001b[0m\u001b[0;34m=\u001b[0m\u001b[0;34m''\u001b[0m\u001b[0;34m)\u001b[0m\u001b[0;34m:\u001b[0m\u001b[0;34m\u001b[0m\u001b[0;34m\u001b[0m\u001b[0m\n",
      "\u001b[0;31mTimeoutException\u001b[0m: Message: \nStacktrace:\n0   chromedriver                        0x000000010e71c2c9 chromedriver + 5120713\n1   chromedriver                        0x000000010e6aae33 chromedriver + 4656691\n2   chromedriver                        0x000000010e29a158 chromedriver + 393560\n3   chromedriver                        0x000000010e2ceedd chromedriver + 610013\n4   chromedriver                        0x000000010e2cf161 chromedriver + 610657\n5   chromedriver                        0x000000010e301244 chromedriver + 815684\n6   chromedriver                        0x000000010e2ec4ad chromedriver + 730285\n7   chromedriver                        0x000000010e2fef41 chromedriver + 806721\n8   chromedriver                        0x000000010e2ec373 chromedriver + 729971\n9   chromedriver                        0x000000010e2c2609 chromedriver + 558601\n10  chromedriver                        0x000000010e2c3635 chromedriver + 562741\n11  chromedriver                        0x000000010e6eeb1d chromedriver + 4934429\n12  chromedriver                        0x000000010e6f3295 chromedriver + 4952725\n13  chromedriver                        0x000000010e6f83cf chromedriver + 4973519\n14  chromedriver                        0x000000010e6f3cba chromedriver + 4955322\n15  chromedriver                        0x000000010e6ce37c chromedriver + 4801404\n16  chromedriver                        0x000000010e70dc68 chromedriver + 5061736\n17  chromedriver                        0x000000010e70ddef chromedriver + 5062127\n18  chromedriver                        0x000000010e7235e5 chromedriver + 5150181\n19  libsystem_pthread.dylib             0x00007fff6e82d109 _pthread_start + 148\n20  libsystem_pthread.dylib             0x00007fff6e828b8b thread_start + 15\n"
     ]
    }
   ],
   "source": [
    "from Local import id,pwd,url\n",
    "\n",
    "chrome_options = webdriver.ChromeOptions()\n",
    "prefs = {'download.default_directory' : os.getcwd()}\n",
    "chrome_options.add_experimental_option('prefs', prefs)\n",
    "\n",
    "driver = webdriver.Chrome('../chromedriver', chrome_options=chrome_options)\n",
    "driver.get(url)\n",
    "time.sleep(1)\n",
    "login(id, pwd, driver)\n",
    "\n",
    "time.sleep(10)\n",
    "\n",
    "click_projects= WebDriverWait(driver,10).until(EC.element_to_be_clickable((By.XPATH,'//*[@id=\"header_sections\"]/li[3]/a')))\n",
    "click_projects.click()\n",
    "time.sleep(3)\n",
    "working_project= WebDriverWait(driver,10).until(EC.element_to_be_clickable((By.XPATH,'//*[@id=\"main_content\"]/div[3]/div/div/div[3]/div[1]/div[1]/div[1]/div[1]/div/a')))\n",
    "working_project.click()\n",
    "\n",
    "time.sleep(1)\n",
    "move_to_lasttab(driver)\n",
    "\n",
    "# download_csv= WebDriverWait(driver,10).until(EC.element_to_be_clickable((By.XPATH,'//*[@id=\"link_rsc-6297134389ada2-91732807_37480453\"]')))\n",
    "# download_csv.click()\n",
    "# time.sleep(1)\n",
    "# open_editor= WebDriverWait(driver,10).until(EC.element_to_be_clickable((By.XPATH,'//*[@id=\"link_rsc-629b91d2853744-83832686\"]')))\n",
    "# open_editor.click()\n",
    "\n",
    "# move_to_lasttab(driver)\n",
    "#####At Editor#######\n",
    "\n",
    "# error\n",
    "\n",
    "\n",
    "\n",
    "# move_to_lasttab(driver)\n",
    "\n",
    "####Moving to project####\n",
    "#########################\n",
    "# last_tab = driver.window_handles[-1]\n",
    "# driver.switch_to.window(window_name=last_tab)"
   ]
  },
  {
   "cell_type": "code",
   "execution_count": 32,
   "metadata": {},
   "outputs": [
    {
     "data": {
      "text/plain": [
       "84"
      ]
     },
     "execution_count": 32,
     "metadata": {},
     "output_type": "execute_result"
    }
   ],
   "source": [
    "###preprocess inputlist###\n",
    "def preprocess_txtfile(txt_path) :\n",
    "\n",
    "    with open(txt_path, \"r\") as f :\n",
    "        li = f.readlines()\n",
    "\n",
    "    f.close()\n",
    "    li = [i.strip() for i in li]\n",
    "    li = list(filter(lambda x : x!='', li))\n",
    "\n",
    "    for i in range(0,len(li),4) :\n",
    "        li[i] = int(li[i][:-1])\n",
    "\n",
    "    new_li=[]\n",
    "    for i in range(len(li)) :\n",
    "        if i%4 == 1 or i%4 == 0:\n",
    "            continue\n",
    "        if i%4 == 3 :\n",
    "            st = li[i]\n",
    "            st = st.split(',')\n",
    "            st = [i.strip() for i in st if len(i)>1]\n",
    "            new_li.append(', '.join(st))\n",
    "        if i%4 ==2 :\n",
    "            new_li.append(li[i])\n",
    "    return new_li\n",
    "\n",
    "li = preprocess_txtfile(f\"{os.getcwd()}/working/work.txt\")\n",
    "\n",
    "len(li)"
   ]
  },
  {
   "cell_type": "code",
   "execution_count": 33,
   "metadata": {},
   "outputs": [
    {
     "data": {
      "text/plain": [
       "['우아한 분위기 브이넥 슬리브리스 아웃웨어',\n",
       " '보석 장식 니트 상의, 멜빵 민소매 니트, 봄여름 스타일링 니트, 트랜드한 니트, 안에 입는 텐셀 니트 상의',\n",
       " 'MISS SIXTY 여름철 여성 청바지',\n",
       " '소녀 데님 청바지, 에이치 라인 청바지',\n",
       " '미디엄 렝스 블랙 우산 스커트 투피스',\n",
       " '여름철 주름 디자인 투피스, 하이웨스트 투피스, 슬림핏 a자라인 스커트, 2022 신상',\n",
       " '잔꽃 무늬 여성 롱 스커트',\n",
       " '봄 스타일 여성복, 프랑스 스타일 스커트, 첫사랑 분위기 스타일링, 티타임 분위기 스타일링, 매니아 층 디자인, 2022 봄 스타일 신상',\n",
       " 'A자 라인 미디엄 스커트',\n",
       " '버킷 디자인, 여름철 트랜드한 디자인, 완벽한 허리 라인 슬림핏, 2022 신상',\n",
       " '유럽 스타일 블랙 쉬폰 원피스',\n",
       " '스몰 블랙 원피스, 여성 봄철 원피스, 서양식 스타일 원피스, 2022 봄옷 신상',\n",
       " '여성 브이넥 미디엄 소매 스커트',\n",
       " '면마 스커트, 브이넥 원피스, 미디엄 렝스 스커트',\n",
       " '타이거 여성 니트 스웨터',\n",
       " '매니아 층 디자인, 완벽한 타이거 스웨터, 이른 봄 한국식 디자인, 부드러운 분위기, 키작녀도 잘 어울리는 스타일, 2022 이른 봄 신상',\n",
       " 'LE AVES 캐쥬얼 에이치 라인 하프 팬츠',\n",
       " '남친 스타일 팬츠, 루즈핏 카키 팬츠, 연예인 스타일 팬츠, 휴양지 스타일, 2022 신상',\n",
       " 'CIVICERA 여성 정장 재킷',\n",
       " '가을 옷차림 재킷, oversize 재킷, 루즈핏 재킷, 더블 버킷 재킷, 2022 가을 옷차림 신상',\n",
       " 'LEIYU 브이넥 니트 원피스',\n",
       " '가을철 서양식 원피스, ins 스타일 원피스, 얼짱 스타일링 원피스, 섹시 타이트한 힙 라인 미디엄 스커트, 2022 신상',\n",
       " '그린 스트라이프 자외선 차단 블라우스',\n",
       " '하이엔드 디자인, 봄여름 얇은 루즈핏, 나른한 분위기, 미디엄 렝스 캐쥬얼 셔츠 재킷',\n",
       " 'Anna forest 레트로 디자인 미니멀리즘 데님 긴 바지',\n",
       " '봄철 라이트 컬러 바지, 빅 사이즈 바지, 루즈핏 바지, 오버 사이즈 바지, 2022 봄철 신상',\n",
       " '여름철 여성 루즈핏 빅 사이즈 캐쥬얼 청바지 세트',\n",
       " '날씬해 보이는 아메리칸 스타일, 레트로 디자인, 체크 무늬 세트, 2022 신상',\n",
       " '불규칙면 디자인 긴팔 티셔츠',\n",
       " '여성 봄가을 디자인, 스트링 디자인, 안에 입는 이너웨어 셔츠, 이른 봄 날씬해 보이는 완벽한 쇼트 상의',\n",
       " 'WU77 벌룬 소매 슬림핏 니트',\n",
       " '한국식 디자인, 날씬해 보이는 쇼트, 핫 스위트 스타일링, 반팔 상의',\n",
       " '얇은 긴팔 여성 선블락 가디건 쇼트 재킷',\n",
       " '여성 여름철 디자인, 스트랩 스타일링, 자외선 차단 화이트 가디건, 2022 신상',\n",
       " 'LUXIANGNAN 블랙 오피스 룩 플리츠 정장 원피스',\n",
       " '여름철 정장 원피스, 슬림핏 디자인, 쇼트 치마, 2022 신상',\n",
       " 'mina MOJO 한국식 세트',\n",
       " '한국 스타일 세트, 여름철 세트',\n",
       " 'Fansilanen 작업복 스타일 원피스',\n",
       " '얇은 디자인 원피스, 매니아 층 디자인 쇼트 치마, 2022 신상',\n",
       " 'き 레트로 V 카라 스타일링 오피스 룩 정장 재킷',\n",
       " '여성 이른 봄 재킷, 스몰 양복 재킷, 2022 이른 봄 신상',\n",
       " 'riz 고급 그레이 양면 캐시미어 외투',\n",
       " '물결무늬 디자인 외투, 여성 미디엄 렝스 외투, 모직 재킷, 2022 신상',\n",
       " 'Leting 여성 허리띠 청바지',\n",
       " '허리띠 디자인, 스트레치 청바지, 에이치 라인, 2022 신상',\n",
       " 'Sleep at 11 여름 반팔 티셔츠 상의',\n",
       " '하트 디자인, 자수 레터링 디자인',\n",
       " 'LUXIANGNAN 레드 V 카라 리본 디자인 니트',\n",
       " '아웃웨어 니트 가디건, 여성 봄철 스웨터, 레트로 디자인 스타일링, 어떤 옷에도 잘 어울리는 니트, 2022 봄철 신상',\n",
       " 'DHR 박쥐 소매 오버핏 블라우스',\n",
       " '자외선 차단 셔츠, 여성 루즈핏 블라우스, 미디엄 렝스 디자인, 매니아 층 디자인, 2022 여름철 신상',\n",
       " '레트로 디자인 하이엔드 원피스 여성복',\n",
       " '이른 가을 옷차림 스타일링, 여신 분위기, 헵번 분위기, 프랑스 스타일, 2022 가을 옷차림 신상',\n",
       " 'CALVINLUO 나비 디자인 헤어핀',\n",
       " '세가지 색, 그린 블랙 핑크, 연예인 스타일',\n",
       " '수공 여성 캐시미어 모직 외투',\n",
       " '가을겨울 롱 재킷, 양면 디자인 외투, 헵번 분위기 외투, 우아한 분위기 스타일링, 모직 재킷',\n",
       " '유럽 스타일 캐쥬얼 반팔 매머드 라인 원피스',\n",
       " '유럽 트랜디 원피스, 캐쥬얼 반팔 티셔츠, 매머드 라인 스커트, 2022 신상',\n",
       " '안에 입는 단색 슬리브리스 멜빵 쇼트 민소매',\n",
       " '봄철 여성복, 탄성 민소매, 미니멀리즘 타이트 이너웨어, 날씬해 보이는 아웃웨어 상의, 2022 봄철 신상',\n",
       " '프랑스 스타일 긴팔 이브닝드레스',\n",
       " '우아한 스타일 드레스, 몽환적인 드레스, 웨딩 드레스 스타일링, 신부 드레스, 사교 스타일 드레스, 2022 신상',\n",
       " 'OtherMix 레트로 디자인 데님 멜빵 투피스',\n",
       " '이른 봄철 투피스, 어떤 옷에도 잘 어울리는 투피스, 어려 보이는 a자라인 스커트, 2022 봄철 신상',\n",
       " '중국 스타일 레트로 슬림핏 치파오 원피스',\n",
       " '여름철 레트로 디자인 치파오, 레이스 치파오, 슬림핏 공주 치마, 2022 신상',\n",
       " 'Leting 캐쥬얼 페이크 투피스 티셔츠',\n",
       " '봄철 스위티 스타일링 티셔츠, 루즈핏 얇은 티셔츠, 2022 여름철 신상',\n",
       " '한국식 디자인 시크 앙고라 스웨터',\n",
       " '여성 가을겨울핏 디자인, 루즈핏 스웨터, 스트라이프 니트 상의, 2022 신상',\n",
       " '화이트 여성 하이웨스트 루즈핏 청바지',\n",
       " '여름철 허리 라인 팬츠, 매니아 층 디자인, 와이드 팬츠, 날씬해 보이는 루즈핏 일자 바지, 2022 신상',\n",
       " '아일렛 펀칭 미니멀리즘 정장 재킷 세트',\n",
       " '펀칭 디자인, 심플 디자인 정장 재킷',\n",
       " 'polo 카라 일자 어깨 라인 반팔 상의 티셔츠',\n",
       " '뚱뚱해도 잘 어울리는 티셔츠, 여름철 빅 사이즈 티셔츠, 트랜드한 디자인, 유행에 민감한 디자인, 2022 신상',\n",
       " '단색 슬림핏 모달 이너웨어 티셔츠',\n",
       " '슬림핏 티셔츠, 어떤 옷에도 잘 어울리는 상의, 얇은 반소매 티셔츠, 불규칙 소매 디자인 반팔 니트',\n",
       " '서머 웨어 V넥 시폰 원피스',\n",
       " '날씬해 보이는 원피스, 롱 원피스, 잔꽃 무늬 디자인, 2022 신상',\n",
       " 'TAOLI DIQIU 리버스 카라 지퍼 니트 쇼트 재킷',\n",
       " '프랑스 스타일 쇼트 재킷, 배꼽 라인 쇼트 재킷, 허리 라인 재킷, 슬림핏 재킷, 날씬해 보이는 스타일링 상의']"
      ]
     },
     "execution_count": 33,
     "metadata": {},
     "output_type": "execute_result"
    }
   ],
   "source": [
    "li\n"
   ]
  },
  {
   "cell_type": "code",
   "execution_count": 16,
   "metadata": {},
   "outputs": [],
   "source": [
    "move_to_lasttab(driver)"
   ]
  },
  {
   "cell_type": "code",
   "execution_count": 17,
   "metadata": {},
   "outputs": [
    {
     "name": "stderr",
     "output_type": "stream",
     "text": [
      "100%|██████████| 100/100 [01:27<00:00,  1.15it/s]"
     ]
    },
    {
     "name": "stdout",
     "output_type": "stream",
     "text": [
      "Completed Writing\n"
     ]
    },
    {
     "name": "stderr",
     "output_type": "stream",
     "text": [
      "\n"
     ]
    }
   ],
   "source": [
    "def write_from_processed_txt(driver, li):\n",
    "    \"\"\"\n",
    "    ##write the list on the ediotr##\n",
    "    We should be on the editor page, the driver should be attend on editor page\n",
    "    ex) after move_to_last_tab()\n",
    "    \"\"\"\n",
    "    ##write the list on the ediotr##\n",
    "    idx=0\n",
    "    for row in tqdm(range(1,101)) :\n",
    "        for col in range(1,3) :\n",
    "            input_path = f'//*[@id=\"resources\"]/div[1]/div[2]/div[1]/div[2]/div[{row*2}]/div[2]/div/div[{col}]/textarea'\n",
    "            input_box= WebDriverWait(driver,10).until(EC.element_to_be_clickable((By.XPATH,input_path)))\n",
    "            input_box.clear()\n",
    "            input_box.send_keys(li[idx])\n",
    "            idx+=1\n",
    "    print(\"Completed Writing\")\n",
    "write_from_processed_txt(driver, li)"
   ]
  },
  {
   "cell_type": "code",
   "execution_count": 19,
   "metadata": {},
   "outputs": [
    {
     "name": "stderr",
     "output_type": "stream",
     "text": [
      "/Users/gwihwango/.pyenv/versions/3.7.3/lib/python3.7/site-packages/ipykernel_launcher.py:8: DeprecationWarning: find_element_by_xpath is deprecated. Please use find_element(by=By.XPATH, value=xpath) instead\n",
      "  \n"
     ]
    },
    {
     "name": "stdout",
     "output_type": "stream",
     "text": [
      "1 Numeric Mismatches\n",
      "2 Numeric Mismatches\n",
      "3 Numeric Mismatches\n",
      "5 Numeric Mismatches\n",
      "6 Numeric Mismatches\n",
      "7 Numeric Mismatches\n",
      "9 Numeric Mismatches\n",
      "10 Numeric Mismatches\n",
      "11 Numeric Mismatches\n",
      "13 Numeric Mismatches\n",
      "14 Numeric Mismatches\n",
      "16 Numeric Mismatches\n",
      "17 Numeric Mismatches\n",
      "18 Numeric Mismatches\n",
      "20 Numeric Mismatches\n",
      "21 Numeric Mismatches\n",
      "23 Numeric Mismatches\n",
      "24 Numeric Mismatches\n",
      "26 Numeric Mismatches\n",
      "30 Numeric Mismatches\n",
      "35 Numeric Mismatches\n",
      "40 Numeric Mismatches\n",
      "40 Capitalization\n",
      "42 Numeric Mismatches\n",
      "45 Numeric Mismatches\n",
      "54 Numeric Mismatches\n",
      "56 Numeric Mismatches\n",
      "57 Numeric Mismatches\n",
      "58 Numeric Mismatches\n",
      "60 Numeric Mismatches\n",
      "60 Capitalization\n",
      "63 Numeric Mismatches\n",
      "65 Numeric Mismatches\n",
      "67 Numeric Mismatches\n",
      "68 Numeric Mismatches\n",
      "69 Numeric Mismatches\n",
      "75 Numeric Mismatches\n",
      "84 Capitalization\n",
      "85 Numeric Mismatches\n",
      "86 Numeric Mismatches\n",
      "87 Numeric Mismatches\n",
      "88 Numeric Mismatches\n",
      "89 Numeric Mismatches\n",
      "91 Numeric Mismatches\n",
      "93 Numeric Mismatches\n",
      "94 Numeric Mismatches\n",
      "97 Numeric Mismatches\n",
      "99 Numeric Mismatches\n",
      "There is no more Errors\n"
     ]
    }
   ],
   "source": [
    "######delete error#######\n",
    "def click_errors(driver) :\n",
    "    irrelvant_btn_path = '//*[@id=\"modal_confirm_dialog\"]/div[2]/div/div[3]/button[2]'\n",
    "    for row in range(1,101) :\n",
    "        for kind in range(1,8) :\n",
    "            error_path = f'//*[@id=\"resources\"]/div[1]/div[2]/div[1]/div[2]/div[{row*2}]/div[3]/div/div[{kind}]/div[1]'\n",
    "            # //*[@id=\"resources\"]/div[1]/div[2]/div[1]/div[2]/div[8]/div[3]/div/div[5]/div[1]\n",
    "            error = driver.find_element_by_xpath(error_path)\n",
    "            if error.is_displayed() :\n",
    "                print(row, error.text)\n",
    "                error.click()\n",
    "                irrelvant_btn= WebDriverWait(driver,10).until(EC.element_to_be_clickable((By.XPATH,irrelvant_btn_path)))\n",
    "                irrelvant_btn.click()\n",
    "    \n",
    "    print(\"There is no more Errors\")\n",
    "click_errors(driver)"
   ]
  }
 ],
 "metadata": {
  "interpreter": {
   "hash": "95cb90694882dadca987f5fb6182f3bb000d75c3a77cb8ddf9893f9283882476"
  },
  "kernelspec": {
   "display_name": "py_seleminum",
   "language": "python",
   "name": "py_selenium"
  },
  "language_info": {
   "codemirror_mode": {
    "name": "ipython",
    "version": 3
   },
   "file_extension": ".py",
   "mimetype": "text/x-python",
   "name": "python",
   "nbconvert_exporter": "python",
   "pygments_lexer": "ipython3",
   "version": "3.7.3"
  },
  "orig_nbformat": 4
 },
 "nbformat": 4,
 "nbformat_minor": 2
}
