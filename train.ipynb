{
 "cells": [
  {
   "cell_type": "code",
   "execution_count": 18,
   "metadata": {},
   "outputs": [
    {
     "name": "stdout",
     "output_type": "stream",
     "text": [
      "Collecting emoji\n",
      "  Using cached emoji-1.7.0-py3-none-any.whl\n",
      "Installing collected packages: emoji\n",
      "Successfully installed emoji-1.7.0\n",
      "\u001b[33mWARNING: You are using pip version 22.0.4; however, version 22.1.2 is available.\n",
      "You should consider upgrading via the '/Users/gwihwango/.pyenv/versions/3.7.3/envs/py_selenium/bin/python -m pip install --upgrade pip' command.\u001b[0m\u001b[33m\n",
      "\u001b[0m"
     ]
    }
   ],
   "source": [
    "# !pip install jieba\n",
    "# !pip install emoji\n",
    "import jieba\n",
    "def segmentate_sentence(sent):\n",
    "    \"\"\"\n",
    "    word segmentation with jieba\n",
    "    ref : https://github.com/fxsjy/jieba\n",
    "    Args :\n",
    "        sent(Str) : a sentence without segmentation, e.g \"Iloveyou\"\n",
    "    Output :\n",
    "        sent(str) : segmentated sentence, e.g \"I love you\"\n",
    "    \"\"\"\n",
    "    sent = clean(sent)\n",
    "    seg_list = jieba.lcut(sent, cut_all=False)\n",
    "    return \" \".join(seg_list)\n",
    "    \n",
    "def clean(x):\n",
    "    \"\"\"clean tweets\n",
    "    :param: a tweet (str)\n",
    "    :return a preprocessed tweet (str)\n",
    "    \"\"\"\n",
    "    import emoji\n",
    "    from collections import Counter\n",
    "    import re\n",
    "    emojis = ''.join(emoji.UNICODE_EMOJI.keys())\n",
    "    pattern = re.compile(f'[^ .,?!/@$%~％·∼()\\x00-\\x7Fㄱ-힣{emojis}]+')\n",
    "    username_pattern = re.compile(\n",
    "        r\"(?<=^|(?<=[^a-zA-Z0-9-_\\.]))@([A-Za-z]+[A-Za-z0-9-_]+)\")\n",
    "    url_pattern = re.compile(\n",
    "        r\"[-a-zA-Z0-9@:%_\\+.~#?&//=]{2,256}\\.[a-z]{2,4}\\b(\\/[-a-zA-Z0-9@:%_\\+.~#?&//=]*)?\")\n",
    "\n",
    "    chinese_pattern=re.compile(r\"[^\\u4e00-\\u9fa5]+\")\n",
    "#     x = username_pattern.sub('', x)\n",
    "#     x = url_pattern.sub('', x)\n",
    "    x = chinese_pattern.sub('', x)\n",
    "#     x = re.sub(r'[0-9]+', '', x)\n",
    "#     table = x.maketrans({ '/': ' ',  '#': ' ', '@':' ', ':':' '})\n",
    "#     x = x.translate(table)\n",
    "    x = re.sub(pattern, '', x)\n",
    "#     x = re.sub(r\"[^a-zA-Z0-9]\",\"\",x) # 특수문자 제거\n",
    "    x = x.strip()\n",
    "    return x"
   ]
  },
  {
   "cell_type": "code",
   "execution_count": 7,
   "metadata": {},
   "outputs": [
    {
     "data": {
      "text/plain": [
       "Index(['product_id', 'cate_lv1', 'cate_lv3', 'English title', 'MT', 'url'], dtype='object')"
      ]
     },
     "execution_count": 7,
     "metadata": {},
     "output_type": "execute_result"
    }
   ],
   "source": [
    "####Working On DATA####\n",
    "import pandas as pd\n",
    "\n",
    "# df = pd.read_csv(download_csv.text)\n",
    "df = pd.read_csv(\"train_data/6_5.csv\")\n",
    "df.columns"
   ]
  },
  {
   "cell_type": "code",
   "execution_count": 19,
   "metadata": {},
   "outputs": [
    {
     "data": {
      "text/plain": [
       "['喜 你 而 欢大庞 定制 方领 碎花 收腰 连衣裙 甜美 泡泡 袖中 长裙 女',\n",
       " '春夏 新款 女装 时尚 甜美 学院 风 长裙 套装 牛仔 背带 连衣裙 子夏',\n",
       " '春季 复古 美式 辣妹 印花 字母 背心 仿貂毛 坎肩 针织 套装',\n",
       " '小静 定制 优雅 气质 小 铆钉 收腰 镂空 辣妹 吊带 小黑裙 连衣裙',\n",
       " '韩国 正品 代购 春 连衣裙',\n",
       " '娃娃 领 连衣裙 夏季 新款 女收 腰显 瘦 爱心 印花 优雅 长 裙子',\n",
       " '阔腿 牛仔裤 女 夏季 薄款 年 新款 高腰 垂 感显 瘦 宽松 浅色 直 筒裤 子女',\n",
       " '丹麦 貂 短款 毛呢 外套 女年 新款 秋冬 皮毛 一体 仿 水貂 绒 大衣 春',\n",
       " '古着 商店 星球 邮报 美式 复古 短袖 恤 女 夏季 新款 纯棉 宽松 体恤 上衣',\n",
       " '年 春季 新款 廓形 羊绒 中长款 米色 貂绒 小众 宽松 毛 呢子大衣 外套 女',\n",
       " '娃娃 领 衬衫 女 设计 感小众 白色 衬衣 新款 春季 甜美 韩系 泡泡 袖 上衣',\n",
       " '黑色 显瘦 气质 连衣裙 女夏 新款 提花 泡泡 袖 法式 桔梗 裙子',\n",
       " '大码 百分百 法式 夏季 新款 女装 胖显 瘦 遮肉 修身 褶皱 长 连衣裙',\n",
       " '瞌睡 兔 小夜曲 刺绣 花朵 复古 方领 文艺 气质 修身 连衣裙 女夏 小个子',\n",
       " '晚宴 后 湖畔 散步 女主 气质 修身 白色 亮丝 小 香风 连衣裙',\n",
       " '法曼 萱 券后 元 抢 到 稳赚 清仓 福袋 售完 不补',\n",
       " '方领 泡泡 袖 碎花 连衣裙 女装 夏季 新款 法式 温柔 风收 腰显 瘦长 裙子',\n",
       " '张大 人大 码胖 妹妹 高级 感 复古 连衣裙 夏 新款 胸前 镂空 显瘦雪纺 裙子',\n",
       " '老板 微喇高 腰 喇叭裤 女 复古 型 显腿长 飒爽 干练 字型 线条 休闲裤 女',\n",
       " '夏季 短袖 恤 女 纯棉 中 长 宽松 上衣',\n",
       " '夏季 复古 绣花 辣妹 肩部 镂空 修身 显 身材 领 短袖 连衣裙 女',\n",
       " '硬糖 大码 原创 设计 樱花 草 碎花 连衣裙 子 夏季 胖遮肚 显瘦 微胖 穿 搭',\n",
       " '春季 新款 柔软 宽松 蓝色 皮衣 女 设计 感皮 帅气 高级 感 两种 穿 法 西装',\n",
       " '衣品乐 欧洲 站 大码 新款 简约 风琴 褶廓 形 衬衫 衬衣 宽松 胖 妹妹 女春',\n",
       " '奥芝国 法式 冰丝 黑色 针织 连衣裙 女 夏季 小黑裙 小 众 设计 春款 裙子',\n",
       " '日系 复古 卡其色 工装裤 女 秋冬 新款 设计 感小众 直筒 休闲 阔腿 裤子',\n",
       " '白色 牛角 扣 皮草 外套 女 冬季 高端 气质 宽松 加厚 皮毛 一体 大衣',\n",
       " '反光 卫裤 运动裤 高街 裤 正品 男女 嘻哈潮牌',\n",
       " '金大支 法式 小 香风 外套 女年 新款 早 春季 短款 开衫 高级 感 上衣',\n",
       " '春夏 纯色 针织 长款 吊带 背心 一体式 美 背带 胸垫 内 搭外 穿 防走光 抹胸',\n",
       " '年 新款 礼服 设计 感小众 短袖 法式 高级 感领 小 香风 连衣裙 女夏',\n",
       " '甜美 气质 花朵 盐系 早春 外套 女年 新款 韩版 宽松 百搭炸 街 短 上衣 潮',\n",
       " '大码 华夫格 假 两件 短袖 恤 女夏 宽松 半袖 设计 感小众 情侣 上衣 潮牌',\n",
       " '地素 春夏 专柜 新款 设计 感 泡泡 袖 银丝 提花 小 上衣 女',\n",
       " '原创 设计 蝴蝶结 绑带 不规则 吊带 黑色 中长款 绣花 连衣裙',\n",
       " '白色 立领 衬衫 女士 春季 设计 感小众 中长款 纯棉 上衣 休闲 打底 长袖 衬衣',\n",
       " '法式 性感 蕾丝 背心 女外 穿 夏季 新款 辣妹 美背 内 搭 黑色 短款 小 吊带 上衣',\n",
       " '七分 袖恤女 夏季 新款 洋气 字母 印花 宽松 纯棉 套头 圆领 半袖 上衣',\n",
       " '春季 新款 浅色 牛仔 外套 女 短款 牛仔衣 女 韩版潮 百搭',\n",
       " '周雨彤 明星 同款 可爱 猫咪 字母 刺绣 针织 长袖 套头 软 糯 黑色 毛衣 短款 女',\n",
       " '酒窝 定制 夏季 圆领 针织 背心 女 无袖 上衣 女外 穿潮 时尚 打底 衫',\n",
       " '新款 早春 薄 针织衫 洋气 妈妈 春装 娃娃 领 打底 衫 恤 中老年 女上衣',\n",
       " '黑色 小 香风 开衫 女 夏季 年 新款 设计 感小众 小个子 短款 高级 感 毛衣',\n",
       " '春季 日系 直筒 卡其色 纯棉 休闲 长裤 学生 宽松 小个子 工装裤 女',\n",
       " '新款 进口 紫标 天鹅绒 时尚 年轻 貂皮大衣 女显 瘦 短款 减龄 皮草 外套 女冬',\n",
       " '落落 狷 介 白色 设计 感恤女 设计 感夏 女装 新款 潮 修身 别致 上衣',\n",
       " '春秋 款 连衣裙 女领 印花 雪纺 长袖',\n",
       " '现货 都 好 搭 的 性感 辣妹 绑带 包 臀 短裙 半身裙',\n",
       " '卤 卤 白色 直筒 牛仔裤 女 春秋季 宽松 复古 高腰 显瘦 黑色 九分 裤子',\n",
       " '欣贺 艾薇 春季 新品 减龄 钉 珠 翻领 软 糯 毛衣 针织衫',\n",
       " '梨形 身材 裤子 年 春季 新款 直筒 高腰 宽松 显瘦 大码 牛仔裤 女阔 腿 裤',\n",
       " '曾小咸 女装 红色 毛衣 女 新款 开衫 设计 感小众 慵懒 风 洋气 针织 上衣',\n",
       " '通勤 优雅 纯色 夹克 时尚 宽松 真丝 长袖 百搭 拉链 中性 短外套',\n",
       " '芮时 精工 高定 宝藏 阔西 春秋 休闲 时髦 气质 宽松 老爹 西装 外套',\n",
       " '高级 感 黑色 小 西装 外套 女年 新款 百搭 女神 范 休闲 气质 西服 上衣 夏',\n",
       " '时尚 西服套装 女 春季 新款 韩版 修身 减龄 干练 职业装 小脚 裤 三件套',\n",
       " '夏季 高级 感 宽松 蓝色 西装 外套 短裤 两件 套装 网红炸街 甜酷 盐系 女 夏季',\n",
       " '早春 款 女装 年 新款 小 香风 法式 牛仔 连衣裙 子御姐 高级 感小众 设计',\n",
       " '忠犬小八 梨形 自制 一捧 青山 彩 条纹 可爱 少女 领 长袖 恤 学院 春款',\n",
       " '欣贺 艾薇 夏季 新 镂空 绣花 领 水果 绣花 黑色 恤',\n",
       " '果哥 定制 新款 黑色 连衣裙 女夏 气质 泡泡 袖 赫本 风 提花 大摆 小黑裙',\n",
       " '年 夏季 新款 短袖 女 时尚 圆领 字母 绣花 恤 百 搭 打底 上衣 潮',\n",
       " '春款 很 仙 的 上衣 超仙雪纺 复古 港味 衬衫 女 设计 感小众',\n",
       " '春天 蕞 好 穿 的 百搭们 都 在 这儿 啦 磨毛 白 彩虹 点点 条纹 长 短袖',\n",
       " '赵露思 明星 同款 碎花 百褶裙 宽松 灯笼 长袖 连衣裙 温柔 仙女 裙 夏季',\n",
       " '茶 歇 法式 碎花 吊带 连衣裙 收腰 气质 小 众 设计 质感 高级 感 修身 长裙 女夏',\n",
       " '三宅 褶皱 夏季 薄款 九分 休闲 西装裤 子女 显 瘦高 腰垂感 直筒 烟管 裤',\n",
       " '三彩 春季 新款 印花 高腰 雪纺 连衣裙 中 长裙 仙女 风 温柔 碎花 裙 秋冬',\n",
       " '大码 女装 早春 新款 时尚 显瘦 收腰 小众 设计 胖 妹妹 遮肚 牛仔 连衣裙',\n",
       " '柳三三 春夏 新款 花朵 刺绣 修身 无袖 黑色 家 连衣裙 修身 收腰 显瘦 气质',\n",
       " '阔色 宽松 吊带 背心 白衬衫 女 新款 春季 外套 薄款 长袖 内 搭 衬衣 上衣',\n",
       " '落落 狷 介 开衫 薄款 女年 新款 针织衫 绿色 冰丝 上衣 外 搭 针织衫',\n",
       " '知 行 法国 支汉麻 水果 酵素 洗 衬衫 宽松 亚麻 短款 上衣 可然 春夏',\n",
       " '定制 油画 泡泡 袖 方领 连衣裙 女 夏季 新款 收腰 显 瘦长 款 花朵 裙子',\n",
       " '加大 码 女装 年 春季 新款 直筒 牛仔裤 韩版 时尚 百搭高 腰 减龄 九分 裤',\n",
       " '一线 专柜 清仓 剪标 法国 出口 冰丝 短袖 上 衣领 提花 纹理 泡袖 针织衫 恤',\n",
       " '夏季 小款 上衣 短款 配高 腰阔 腿 裤百搭女 薄款 外 搭 开衫 恤 长袖 针织衫',\n",
       " '宝藏 小 牛仔 减龄 甜辣 牛仔 套装 短裙 裤女 俏皮 活泼 两件套 春',\n",
       " '韩都 衣舍 春装 新款 裤子 女潮 宽松 卫裤 高 腰 裤 时尚 运动 休闲裤',\n",
       " '你家 辣辣 小 熊蜂 蜜罐 夏装 新款 奶 黄色 针织 吊带 连衣裙',\n",
       " '自制 韩版 休闲 宽松 阔腿裤 新款 基础 款高腰 刺绣 休闲裤 女春',\n",
       " '觅定 黑色 西装裤 女 早春 新款 高腰 垂感 宽松 阔腿裤 小个子 直筒 裤子',\n",
       " '西装 外套 女 早春 新款 高级 感小 香风 宽松 百搭 短款 上衣',\n",
       " '春 新款 女装 时髦 百搭 舒适 全棉 修身 立体感 显瘦 锥形 牛仔裤',\n",
       " '牛仔裤 女 宽松 直筒 新款 设计 感小众 小个子 阔腿 裤子 女潮 高街',\n",
       " '不规则 牛仔裙 高腰 字 大码 胖 半身裙 女 夏季 女装 排扣 黑色 包 臀 短裙',\n",
       " '冰丝阔 腿 裤 女士 夏季 高腰 垂感 薄款 宽松 大码 休闲 黑色 九分 直 筒裤',\n",
       " '外贸 意大利 女装 欧货 原单 品牌 奢侈 剪标领 条纹 短袖 恤 打底 上衣',\n",
       " '春季 新款 抽褶 短袖 恤 女性 感 方领 锁骨 上衣 女 短款 打底',\n",
       " '春季 新款 宝蓝色 连帽 卫衣 女 春秋 薄款 宽松 韩版 学生 纯色 休闲 上衣',\n",
       " '莫丙 休闲 小衫 短袖 恤 女夏 修身 内 搭 上衣 挖空 短款 针织衫',\n",
       " '小个子 港风 复古 休闲 减龄 时尚 轻熟 风阔 腿 裤 短裤 两件 套装 女 夏装',\n",
       " '地素 春 专柜 新款 小 香风 花式 纱 垫肩 毛呢 外套 女',\n",
       " '缎面 吊带 背心 女 春装 新款 外穿 设计 感 性感美 背领 西装 内 搭 上衣',\n",
       " '又 巷 牛仔裤 小 众 设计 感 春季 新款 复古 长裤 女高腰 直筒 拖地 裤',\n",
       " '小兔 手绘 提花 上衣 女 设计 感小众 短袖 针织 恤 春 新款',\n",
       " '曾小咸 女装 春季 绿色 卫衣女 韩版 宽松 百搭 字母 慵懒 风 长袖 上衣 潮',\n",
       " '不 被 定义 的 女孩 系列 卓雅 周末 夏季 波浪 高腰 字 阔 腿 牛仔 短裤 女',\n",
       " '甜辣 风 裙子 春款 女装 年 新款 设计 感小众 黑色 纯欲 性感 连衣裙 女夏',\n",
       " '那木不加 雕琢 的 自然美 复古 时装 灯笼 袖 典雅 黑色 连衣裙']"
      ]
     },
     "execution_count": 19,
     "metadata": {},
     "output_type": "execute_result"
    }
   ],
   "source": [
    "# !pip uninstall googletrans==4.0.0-rc1\n",
    "\n",
    "###Make it as word and save on table###\n",
    "###table_col : mymeaning, MT_meaning, count, position\n",
    "sentences = [None]*df.shape[0]\n",
    "for row in range(df.shape[0]) :\n",
    "    sentences[row] = segmentate_sentence(df['English title'][row])\n",
    "sentences"
   ]
  },
  {
   "cell_type": "code",
   "execution_count": null,
   "metadata": {},
   "outputs": [],
   "source": [
    "# !pip install googletrans==3.1.0a0\n",
    "# ref) https://stackoverflow.com/questions/52455774/googletrans-stopped-working-with-error-nonetype-object-has-no-attribute-group\n",
    "# ref) https://pypi.org/project/googletrans/\n",
    "from googletrans import Translator\n",
    "gmt = Translator()\n",
    "print(gmt.translate('안녕하세요.', dest='ja'))"
   ]
  },
  {
   "cell_type": "code",
   "execution_count": null,
   "metadata": {},
   "outputs": [],
   "source": []
  },
  {
   "cell_type": "code",
   "execution_count": null,
   "metadata": {},
   "outputs": [],
   "source": [
    "###Opn other files and save on this table too###\n",
    "###No overlap"
   ]
  }
 ],
 "metadata": {
  "interpreter": {
   "hash": "95cb90694882dadca987f5fb6182f3bb000d75c3a77cb8ddf9893f9283882476"
  },
  "kernelspec": {
   "display_name": "Python 3.7.3 64-bit ('py_selenium')",
   "language": "python",
   "name": "python3"
  },
  "language_info": {
   "codemirror_mode": {
    "name": "ipython",
    "version": 3
   },
   "file_extension": ".py",
   "mimetype": "text/x-python",
   "name": "python",
   "nbconvert_exporter": "python",
   "pygments_lexer": "ipython3",
   "version": "3.7.3"
  },
  "orig_nbformat": 4
 },
 "nbformat": 4,
 "nbformat_minor": 2
}
