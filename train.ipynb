{
 "cells": [
  {
   "cell_type": "code",
   "execution_count": 14,
   "metadata": {},
   "outputs": [],
   "source": [
    "# !pip install jieba\n",
    "import jieba\n",
    "def segmentate_sentence(sent):\n",
    "    \"\"\"\n",
    "    word segmentation with jieba\n",
    "    ref : https://github.com/fxsjy/jieba\n",
    "    Args :\n",
    "        sent(Str) : a sentence without segmentation, e.g \"Iloveyou\"\n",
    "    Output :\n",
    "        sent(str) : segmentated sentence, e.g \"I love you\"\n",
    "    \"\"\"\n",
    "    sent = clean(sent)\n",
    "    seg_list = jieba.lcut(sent, cut_all=False)\n",
    "    return \" \".join(seg_list)\n",
    "    \n",
    "def clean(x):\n",
    "    \"\"\"clean tweets\n",
    "    :param: a tweet (str)\n",
    "    :return a preprocessed tweet (str)\n",
    "    \"\"\"\n",
    "    import emoji\n",
    "    from collections import Counter\n",
    "    import re\n",
    "    emojis = ''.join(emoji.UNICODE_EMOJI.keys())\n",
    "    pattern = re.compile(f'[^ .,?!/@$%~％·∼()\\x00-\\x7Fㄱ-힣{emojis}]+')\n",
    "    username_pattern = re.compile(\n",
    "        r\"(?<=^|(?<=[^a-zA-Z0-9-_\\.]))@([A-Za-z]+[A-Za-z0-9-_]+)\")\n",
    "    url_pattern = re.compile(\n",
    "        r\"[-a-zA-Z0-9@:%_\\+.~#?&//=]{2,256}\\.[a-z]{2,4}\\b(\\/[-a-zA-Z0-9@:%_\\+.~#?&//=]*)?\")\n",
    "\n",
    "    chinese_pattern=re.compile(r\"[^\\u4e00-\\u9fa5]+\")\n",
    "#     x = username_pattern.sub('', x)\n",
    "#     x = url_pattern.sub('', x)\n",
    "    x = chinese_pattern.sub('', x)\n",
    "#     x = re.sub(r'[0-9]+', '', x)\n",
    "#     table = x.maketrans({ '/': ' ',  '#': ' ', '@':' ', ':':' '})\n",
    "#     x = x.translate(table)\n",
    "    x = re.sub(pattern, '', x)\n",
    "#     x = re.sub(r\"[^a-zA-Z0-9]\",\"\",x) # 특수문자 제거\n",
    "    x = x.strip()\n",
    "    return x"
   ]
  },
  {
   "cell_type": "code",
   "execution_count": 7,
   "metadata": {},
   "outputs": [
    {
     "data": {
      "text/plain": [
       "Index(['product_id', 'cate_lv1', 'cate_lv3', 'English title', 'MT', 'url'], dtype='object')"
      ]
     },
     "execution_count": 7,
     "metadata": {},
     "output_type": "execute_result"
    }
   ],
   "source": [
    "####Working On DATA####\n",
    "import pandas as pd\n",
    "\n",
    "# df = pd.read_csv(download_csv.text)\n",
    "df = pd.read_csv(\"train_data/6_5.csv\")\n",
    "df.columns"
   ]
  },
  {
   "cell_type": "code",
   "execution_count": 15,
   "metadata": {},
   "outputs": [
    {
     "ename": "ModuleNotFoundError",
     "evalue": "No module named 'emoji'",
     "output_type": "error",
     "traceback": [
      "\u001b[0;31m---------------------------------------------------------------------------\u001b[0m",
      "\u001b[0;31mModuleNotFoundError\u001b[0m                       Traceback (most recent call last)",
      "\u001b[0;32m/var/folders/jt/jg8f8t5d5l94gkq96yn3k41h0000gn/T/ipykernel_23847/3780824246.py\u001b[0m in \u001b[0;36m<module>\u001b[0;34m\u001b[0m\n\u001b[1;32m      5\u001b[0m \u001b[0msentences\u001b[0m \u001b[0;34m=\u001b[0m \u001b[0;34m[\u001b[0m\u001b[0;32mNone\u001b[0m\u001b[0;34m]\u001b[0m\u001b[0;34m*\u001b[0m\u001b[0mdf\u001b[0m\u001b[0;34m.\u001b[0m\u001b[0mshape\u001b[0m\u001b[0;34m[\u001b[0m\u001b[0;36m0\u001b[0m\u001b[0;34m]\u001b[0m\u001b[0;34m\u001b[0m\u001b[0;34m\u001b[0m\u001b[0m\n\u001b[1;32m      6\u001b[0m \u001b[0;32mfor\u001b[0m \u001b[0mrow\u001b[0m \u001b[0;32min\u001b[0m \u001b[0mrange\u001b[0m\u001b[0;34m(\u001b[0m\u001b[0mdf\u001b[0m\u001b[0;34m.\u001b[0m\u001b[0mshape\u001b[0m\u001b[0;34m[\u001b[0m\u001b[0;36m0\u001b[0m\u001b[0;34m]\u001b[0m\u001b[0;34m)\u001b[0m \u001b[0;34m:\u001b[0m\u001b[0;34m\u001b[0m\u001b[0;34m\u001b[0m\u001b[0m\n\u001b[0;32m----> 7\u001b[0;31m     \u001b[0msentences\u001b[0m\u001b[0;34m[\u001b[0m\u001b[0mrow\u001b[0m\u001b[0;34m]\u001b[0m \u001b[0;34m=\u001b[0m \u001b[0msegmentate_sentence\u001b[0m\u001b[0;34m(\u001b[0m\u001b[0mdf\u001b[0m\u001b[0;34m[\u001b[0m\u001b[0;34m'English title'\u001b[0m\u001b[0;34m]\u001b[0m\u001b[0;34m[\u001b[0m\u001b[0mrow\u001b[0m\u001b[0;34m]\u001b[0m\u001b[0;34m)\u001b[0m\u001b[0;34m\u001b[0m\u001b[0;34m\u001b[0m\u001b[0m\n\u001b[0m\u001b[1;32m      8\u001b[0m \u001b[0msentences\u001b[0m\u001b[0;34m\u001b[0m\u001b[0;34m\u001b[0m\u001b[0m\n",
      "\u001b[0;32m/var/folders/jt/jg8f8t5d5l94gkq96yn3k41h0000gn/T/ipykernel_23847/3394755758.py\u001b[0m in \u001b[0;36msegmentate_sentence\u001b[0;34m(sent)\u001b[0m\n\u001b[1;32m     10\u001b[0m         \u001b[0msent\u001b[0m\u001b[0;34m(\u001b[0m\u001b[0mstr\u001b[0m\u001b[0;34m)\u001b[0m \u001b[0;34m:\u001b[0m \u001b[0msegmentated\u001b[0m \u001b[0msentence\u001b[0m\u001b[0;34m,\u001b[0m \u001b[0me\u001b[0m\u001b[0;34m.\u001b[0m\u001b[0mg\u001b[0m \u001b[0;34m\"I love you\"\u001b[0m\u001b[0;34m\u001b[0m\u001b[0;34m\u001b[0m\u001b[0m\n\u001b[1;32m     11\u001b[0m     \"\"\"\n\u001b[0;32m---> 12\u001b[0;31m     \u001b[0msent\u001b[0m \u001b[0;34m=\u001b[0m \u001b[0mclean\u001b[0m\u001b[0;34m(\u001b[0m\u001b[0msent\u001b[0m\u001b[0;34m)\u001b[0m\u001b[0;34m\u001b[0m\u001b[0;34m\u001b[0m\u001b[0m\n\u001b[0m\u001b[1;32m     13\u001b[0m     \u001b[0mseg_list\u001b[0m \u001b[0;34m=\u001b[0m \u001b[0mjieba\u001b[0m\u001b[0;34m.\u001b[0m\u001b[0mlcut\u001b[0m\u001b[0;34m(\u001b[0m\u001b[0msent\u001b[0m\u001b[0;34m,\u001b[0m \u001b[0mcut_all\u001b[0m\u001b[0;34m=\u001b[0m\u001b[0;32mFalse\u001b[0m\u001b[0;34m)\u001b[0m\u001b[0;34m\u001b[0m\u001b[0;34m\u001b[0m\u001b[0m\n\u001b[1;32m     14\u001b[0m     \u001b[0;32mreturn\u001b[0m \u001b[0;34m\" \"\u001b[0m\u001b[0;34m.\u001b[0m\u001b[0mjoin\u001b[0m\u001b[0;34m(\u001b[0m\u001b[0mseg_list\u001b[0m\u001b[0;34m)\u001b[0m\u001b[0;34m\u001b[0m\u001b[0;34m\u001b[0m\u001b[0m\n",
      "\u001b[0;32m/var/folders/jt/jg8f8t5d5l94gkq96yn3k41h0000gn/T/ipykernel_23847/3394755758.py\u001b[0m in \u001b[0;36mclean\u001b[0;34m(x)\u001b[0m\n\u001b[1;32m     19\u001b[0m     \u001b[0;34m:\u001b[0m\u001b[0;32mreturn\u001b[0m \u001b[0ma\u001b[0m \u001b[0mpreprocessed\u001b[0m \u001b[0mtweet\u001b[0m \u001b[0;34m(\u001b[0m\u001b[0mstr\u001b[0m\u001b[0;34m)\u001b[0m\u001b[0;34m\u001b[0m\u001b[0;34m\u001b[0m\u001b[0m\n\u001b[1;32m     20\u001b[0m     \"\"\"\n\u001b[0;32m---> 21\u001b[0;31m     \u001b[0;32mimport\u001b[0m \u001b[0memoji\u001b[0m\u001b[0;34m\u001b[0m\u001b[0;34m\u001b[0m\u001b[0m\n\u001b[0m\u001b[1;32m     22\u001b[0m     \u001b[0;32mfrom\u001b[0m \u001b[0mcollections\u001b[0m \u001b[0;32mimport\u001b[0m \u001b[0mCounter\u001b[0m\u001b[0;34m\u001b[0m\u001b[0;34m\u001b[0m\u001b[0m\n\u001b[1;32m     23\u001b[0m     \u001b[0;32mimport\u001b[0m \u001b[0mre\u001b[0m\u001b[0;34m\u001b[0m\u001b[0;34m\u001b[0m\u001b[0m\n",
      "\u001b[0;31mModuleNotFoundError\u001b[0m: No module named 'emoji'"
     ]
    }
   ],
   "source": [
    "# !pip uninstall googletrans==4.0.0-rc1\n",
    "\n",
    "###Make it as word and save on table###\n",
    "###table_col : mymeaning, MT_meaning, count, position\n",
    "sentences = [None]*df.shape[0]\n",
    "for row in range(df.shape[0]) :\n",
    "    sentences[row] = segmentate_sentence(df['English title'][row])\n",
    "sentences"
   ]
  },
  {
   "cell_type": "code",
   "execution_count": null,
   "metadata": {},
   "outputs": [],
   "source": [
    "# !pip install googletrans==3.1.0a0\n",
    "# ref) https://stackoverflow.com/questions/52455774/googletrans-stopped-working-with-error-nonetype-object-has-no-attribute-group\n",
    "# ref) https://pypi.org/project/googletrans/\n",
    "from googletrans import Translator\n",
    "gmt = Translator()\n",
    "print(gmt.translate('안녕하세요.', dest='ja'))"
   ]
  },
  {
   "cell_type": "code",
   "execution_count": null,
   "metadata": {},
   "outputs": [],
   "source": []
  },
  {
   "cell_type": "code",
   "execution_count": null,
   "metadata": {},
   "outputs": [],
   "source": [
    "###Opn other files and save on this table too###\n",
    "###No overlap"
   ]
  }
 ],
 "metadata": {
  "interpreter": {
   "hash": "95cb90694882dadca987f5fb6182f3bb000d75c3a77cb8ddf9893f9283882476"
  },
  "kernelspec": {
   "display_name": "Python 3.7.3 64-bit ('py_selenium')",
   "language": "python",
   "name": "python3"
  },
  "language_info": {
   "codemirror_mode": {
    "name": "ipython",
    "version": 3
   },
   "file_extension": ".py",
   "mimetype": "text/x-python",
   "name": "python",
   "nbconvert_exporter": "python",
   "pygments_lexer": "ipython3",
   "version": "3.7.3"
  },
  "orig_nbformat": 4
 },
 "nbformat": 4,
 "nbformat_minor": 2
}
