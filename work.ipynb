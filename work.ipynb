{
 "cells": [
  {
   "cell_type": "code",
   "execution_count": 9,
   "metadata": {},
   "outputs": [],
   "source": [
    "from selenium import webdriver\n",
    "from selenium.webdriver.common.by import By\n",
    "from selenium.webdriver.support.ui import WebDriverWait\n",
    "from selenium.webdriver.support import expected_conditions as EC\n",
    "from selenium.webdriver.common.keys import Keys\n",
    "import time\n",
    "import os"
   ]
  },
  {
   "cell_type": "code",
   "execution_count": 10,
   "metadata": {},
   "outputs": [],
   "source": [
    "def login(Id, password,driver):\n",
    "\n",
    "    #input : Id and password of user, and driver which is webdriver object\n",
    "    #output : None\n",
    "    \n",
    "    driver.implicitly_wait(4)\n",
    "    driver.find_element(By.XPATH, '//*[@id=\"root\"]/div[2]/div/div[2]/div/div[2]/div/div/div/div/form/div[1]/div/input').send_keys(Id)\n",
    "    driver.find_element(By.XPATH, '//*[@id=\"root\"]/div[2]/div/div[2]/div/div[2]/div/div/div/div/form/div[2]/div/input').send_keys(password) \n",
    "                                                    \n",
    "    click_to_login = WebDriverWait(driver,10).until(EC.element_to_be_clickable((By.XPATH,'//*[@id=\"root\"]/div[2]/div/div[2]/div/div[2]/div/div/div/div/form/div[4]/button')))\n",
    "    click_to_login.click()\n",
    "\n",
    "def move_to_lasttab(driver):\n",
    "    last_tab = driver.window_handles[-1]\n",
    "    driver.switch_to.window(window_name=last_tab)"
   ]
  },
  {
   "cell_type": "code",
   "execution_count": 11,
   "metadata": {},
   "outputs": [
    {
     "name": "stderr",
     "output_type": "stream",
     "text": [
      "/Users/gwihwango/.pyenv/versions/3.7.3/lib/python3.7/site-packages/ipykernel_launcher.py:6: DeprecationWarning: executable_path has been deprecated, please pass in a Service object\n",
      "  \n",
      "/Users/gwihwango/.pyenv/versions/3.7.3/lib/python3.7/site-packages/ipykernel_launcher.py:6: DeprecationWarning: use options instead of chrome_options\n",
      "  \n"
     ]
    },
    {
     "ename": "TimeoutException",
     "evalue": "Message: \nStacktrace:\n0   chromedriver                        0x000000010f7252c9 chromedriver + 5120713\n1   chromedriver                        0x000000010f6b3e33 chromedriver + 4656691\n2   chromedriver                        0x000000010f2a3158 chromedriver + 393560\n3   chromedriver                        0x000000010f2d7edd chromedriver + 610013\n4   chromedriver                        0x000000010f2d8161 chromedriver + 610657\n5   chromedriver                        0x000000010f30a244 chromedriver + 815684\n6   chromedriver                        0x000000010f2f54ad chromedriver + 730285\n7   chromedriver                        0x000000010f307f41 chromedriver + 806721\n8   chromedriver                        0x000000010f2f5373 chromedriver + 729971\n9   chromedriver                        0x000000010f2cb609 chromedriver + 558601\n10  chromedriver                        0x000000010f2cc635 chromedriver + 562741\n11  chromedriver                        0x000000010f6f7b1d chromedriver + 4934429\n12  chromedriver                        0x000000010f6fc295 chromedriver + 4952725\n13  chromedriver                        0x000000010f7013cf chromedriver + 4973519\n14  chromedriver                        0x000000010f6fccba chromedriver + 4955322\n15  chromedriver                        0x000000010f6d737c chromedriver + 4801404\n16  chromedriver                        0x000000010f716c68 chromedriver + 5061736\n17  chromedriver                        0x000000010f716def chromedriver + 5062127\n18  chromedriver                        0x000000010f72c5e5 chromedriver + 5150181\n19  libsystem_pthread.dylib             0x00007fff6efa7109 _pthread_start + 148\n20  libsystem_pthread.dylib             0x00007fff6efa2b8b thread_start + 15\n",
     "output_type": "error",
     "traceback": [
      "\u001b[0;31m---------------------------------------------------------------------------\u001b[0m",
      "\u001b[0;31mTimeoutException\u001b[0m                          Traceback (most recent call last)",
      "\u001b[0;32m/var/folders/jt/jg8f8t5d5l94gkq96yn3k41h0000gn/T/ipykernel_79179/3498697461.py\u001b[0m in \u001b[0;36m<module>\u001b[0;34m\u001b[0m\n\u001b[1;32m     14\u001b[0m \u001b[0mclick_projects\u001b[0m\u001b[0;34m.\u001b[0m\u001b[0mclick\u001b[0m\u001b[0;34m(\u001b[0m\u001b[0;34m)\u001b[0m\u001b[0;34m\u001b[0m\u001b[0;34m\u001b[0m\u001b[0m\n\u001b[1;32m     15\u001b[0m \u001b[0mtime\u001b[0m\u001b[0;34m.\u001b[0m\u001b[0msleep\u001b[0m\u001b[0;34m(\u001b[0m\u001b[0;36m3\u001b[0m\u001b[0;34m)\u001b[0m\u001b[0;34m\u001b[0m\u001b[0;34m\u001b[0m\u001b[0m\n\u001b[0;32m---> 16\u001b[0;31m \u001b[0mworking_project\u001b[0m\u001b[0;34m=\u001b[0m \u001b[0mWebDriverWait\u001b[0m\u001b[0;34m(\u001b[0m\u001b[0mdriver\u001b[0m\u001b[0;34m,\u001b[0m\u001b[0;36m10\u001b[0m\u001b[0;34m)\u001b[0m\u001b[0;34m.\u001b[0m\u001b[0muntil\u001b[0m\u001b[0;34m(\u001b[0m\u001b[0mEC\u001b[0m\u001b[0;34m.\u001b[0m\u001b[0melement_to_be_clickable\u001b[0m\u001b[0;34m(\u001b[0m\u001b[0;34m(\u001b[0m\u001b[0mBy\u001b[0m\u001b[0;34m.\u001b[0m\u001b[0mXPATH\u001b[0m\u001b[0;34m,\u001b[0m\u001b[0;34m'//*[@id=\"main_content\"]/div[3]/div/div/div[3]/div[1]/div[1]/div[1]/div[1]/div/a'\u001b[0m\u001b[0;34m)\u001b[0m\u001b[0;34m)\u001b[0m\u001b[0;34m)\u001b[0m\u001b[0;34m\u001b[0m\u001b[0;34m\u001b[0m\u001b[0m\n\u001b[0m\u001b[1;32m     17\u001b[0m \u001b[0mworking_project\u001b[0m\u001b[0;34m.\u001b[0m\u001b[0mclick\u001b[0m\u001b[0;34m(\u001b[0m\u001b[0;34m)\u001b[0m\u001b[0;34m\u001b[0m\u001b[0;34m\u001b[0m\u001b[0m\n\u001b[1;32m     18\u001b[0m \u001b[0;34m\u001b[0m\u001b[0m\n",
      "\u001b[0;32m~/.pyenv/versions/3.7.3/lib/python3.7/site-packages/selenium/webdriver/support/wait.py\u001b[0m in \u001b[0;36muntil\u001b[0;34m(self, method, message)\u001b[0m\n\u001b[1;32m     87\u001b[0m             \u001b[0;32mif\u001b[0m \u001b[0mtime\u001b[0m\u001b[0;34m.\u001b[0m\u001b[0mmonotonic\u001b[0m\u001b[0;34m(\u001b[0m\u001b[0;34m)\u001b[0m \u001b[0;34m>\u001b[0m \u001b[0mend_time\u001b[0m\u001b[0;34m:\u001b[0m\u001b[0;34m\u001b[0m\u001b[0;34m\u001b[0m\u001b[0m\n\u001b[1;32m     88\u001b[0m                 \u001b[0;32mbreak\u001b[0m\u001b[0;34m\u001b[0m\u001b[0;34m\u001b[0m\u001b[0m\n\u001b[0;32m---> 89\u001b[0;31m         \u001b[0;32mraise\u001b[0m \u001b[0mTimeoutException\u001b[0m\u001b[0;34m(\u001b[0m\u001b[0mmessage\u001b[0m\u001b[0;34m,\u001b[0m \u001b[0mscreen\u001b[0m\u001b[0;34m,\u001b[0m \u001b[0mstacktrace\u001b[0m\u001b[0;34m)\u001b[0m\u001b[0;34m\u001b[0m\u001b[0;34m\u001b[0m\u001b[0m\n\u001b[0m\u001b[1;32m     90\u001b[0m \u001b[0;34m\u001b[0m\u001b[0m\n\u001b[1;32m     91\u001b[0m     \u001b[0;32mdef\u001b[0m \u001b[0muntil_not\u001b[0m\u001b[0;34m(\u001b[0m\u001b[0mself\u001b[0m\u001b[0;34m,\u001b[0m \u001b[0mmethod\u001b[0m\u001b[0;34m,\u001b[0m \u001b[0mmessage\u001b[0m\u001b[0;34m=\u001b[0m\u001b[0;34m''\u001b[0m\u001b[0;34m)\u001b[0m\u001b[0;34m:\u001b[0m\u001b[0;34m\u001b[0m\u001b[0;34m\u001b[0m\u001b[0m\n",
      "\u001b[0;31mTimeoutException\u001b[0m: Message: \nStacktrace:\n0   chromedriver                        0x000000010f7252c9 chromedriver + 5120713\n1   chromedriver                        0x000000010f6b3e33 chromedriver + 4656691\n2   chromedriver                        0x000000010f2a3158 chromedriver + 393560\n3   chromedriver                        0x000000010f2d7edd chromedriver + 610013\n4   chromedriver                        0x000000010f2d8161 chromedriver + 610657\n5   chromedriver                        0x000000010f30a244 chromedriver + 815684\n6   chromedriver                        0x000000010f2f54ad chromedriver + 730285\n7   chromedriver                        0x000000010f307f41 chromedriver + 806721\n8   chromedriver                        0x000000010f2f5373 chromedriver + 729971\n9   chromedriver                        0x000000010f2cb609 chromedriver + 558601\n10  chromedriver                        0x000000010f2cc635 chromedriver + 562741\n11  chromedriver                        0x000000010f6f7b1d chromedriver + 4934429\n12  chromedriver                        0x000000010f6fc295 chromedriver + 4952725\n13  chromedriver                        0x000000010f7013cf chromedriver + 4973519\n14  chromedriver                        0x000000010f6fccba chromedriver + 4955322\n15  chromedriver                        0x000000010f6d737c chromedriver + 4801404\n16  chromedriver                        0x000000010f716c68 chromedriver + 5061736\n17  chromedriver                        0x000000010f716def chromedriver + 5062127\n18  chromedriver                        0x000000010f72c5e5 chromedriver + 5150181\n19  libsystem_pthread.dylib             0x00007fff6efa7109 _pthread_start + 148\n20  libsystem_pthread.dylib             0x00007fff6efa2b8b thread_start + 15\n"
     ]
    }
   ],
   "source": [
    "from Local import id,pwd,url\n",
    "chrome_options = webdriver.ChromeOptions()\n",
    "prefs = {'download.default_directory' : os.getcwd()}\n",
    "chrome_options.add_experimental_option('prefs', prefs)\n",
    "\n",
    "driver = webdriver.Chrome('../chromedriver', chrome_options=chrome_options)\n",
    "driver.get(url)\n",
    "time.sleep(1)\n",
    "login(id, pwd, driver)\n",
    "\n",
    "time.sleep(10)\n",
    "\n",
    "click_projects= WebDriverWait(driver,10).until(EC.element_to_be_clickable((By.XPATH,'//*[@id=\"header_sections\"]/li[2]/a')))\n",
    "click_projects.click()\n",
    "time.sleep(3)\n",
    "working_project= WebDriverWait(driver,10).until(EC.element_to_be_clickable((By.XPATH,'//*[@id=\"main_content\"]/div[3]/div/div/div[3]/div[1]/div[1]/div[1]/div[1]/div/a')))\n",
    "working_project.click()\n",
    "\n",
    "time.sleep(1)\n",
    "move_to_lasttab(driver)\n",
    "\n",
    "# download_csv= WebDriverWait(driver,10).until(EC.element_to_be_clickable((By.XPATH,'//*[@id=\"link_rsc-6297134389ada2-91732807_37480453\"]')))\n",
    "# download_csv.click()\n",
    "# time.sleep(1)\n",
    "# open_editor= WebDriverWait(driver,10).until(EC.element_to_be_clickable((By.XPATH,'//*[@id=\"link_rsc-629b91d2853744-83832686\"]')))\n",
    "# open_editor.click()\n",
    "\n",
    "# move_to_lasttab(driver)\n",
    "#####At Editor#######\n",
    "\n",
    "# error\n",
    "\n",
    "\n",
    "\n",
    "# move_to_lasttab(driver)\n",
    "\n",
    "####Moving to project####\n",
    "#########################\n",
    "# last_tab = driver.window_handles[-1]\n",
    "# driver.switch_to.window(window_name=last_tab)"
   ]
  },
  {
   "cell_type": "code",
   "execution_count": 7,
   "metadata": {},
   "outputs": [],
   "source": [
    "move_to_lasttab(driver)"
   ]
  },
  {
   "cell_type": "code",
   "execution_count": null,
   "metadata": {},
   "outputs": [],
   "source": [
    "###preprocess inputlist###\n",
    "def preprocess_txtfile(txt_path) :\n",
    "\n",
    "    with open(txt_path, \"r\") as f :\n",
    "        li = f.readlines()\n",
    "\n",
    "    f.close()\n",
    "\n",
    "    li = [i.strip() for i in li]\n",
    "    li = list(filter(lambda x : x!='', li))\n",
    "    for i in range(0,len(li),3) :\n",
    "        li[i] = int(li[i][:-1])\n",
    "    return li\n",
    "\n",
    "li = preprocess_txtfile(f\"{os.getcwd()}/train_data/6_5.txt\")\n",
    "li"
   ]
  },
  {
   "cell_type": "code",
   "execution_count": 61,
   "metadata": {},
   "outputs": [],
   "source": [
    "def write_from_processed_txt(driver):\n",
    "    \"\"\"\n",
    "    ##write the list on the ediotr##\n",
    "    We should be on the editor page, the driver should be attend on editor page\n",
    "    ex) after move_to_last_tab()\n",
    "    \"\"\"\n",
    "    ##write the list on the ediotr##\n",
    "    idx=0\n",
    "    for row in range(1,101) :\n",
    "        for col in range(1,3) :\n",
    "            input_path = f'//*[@id=\"resources\"]/div[1]/div[2]/div[1]/div[2]/div[{row*2}]/div[2]/div/div[{col}]/textarea'\n",
    "            input_box= WebDriverWait(driver,10).until(EC.element_to_be_clickable((By.XPATH,input_path)))\n",
    "            input_box.send_keys(li[idx])\n",
    "            idx+=1\n",
    "\n",
    "write_from_processed_txt(driver)"
   ]
  },
  {
   "cell_type": "code",
   "execution_count": 8,
   "metadata": {},
   "outputs": [
    {
     "name": "stderr",
     "output_type": "stream",
     "text": [
      "/Users/gwihwango/.pyenv/versions/3.7.3/lib/python3.7/site-packages/ipykernel_launcher.py:7: DeprecationWarning: find_element_by_xpath is deprecated. Please use find_element(by=By.XPATH, value=xpath) instead\n",
      "  import sys\n"
     ]
    },
    {
     "name": "stdout",
     "output_type": "stream",
     "text": [
      "52 Spelling Errors\n",
      "54 Spelling Errors\n",
      "58 Spelling Errors\n",
      "60 Spelling Errors\n",
      "62 Capitalization\n",
      "64 Spelling Errors\n",
      "66 Spelling Errors\n",
      "72 Spelling Errors\n",
      "84 Spelling Errors\n",
      "86 Spelling Errors\n",
      "92 Spelling Errors\n",
      "94 Spelling Errors\n",
      "96 Spelling Errors\n",
      "98 Spelling Errors\n",
      "102 Spelling Errors\n",
      "106 Spelling Errors\n",
      "118 Spelling Errors\n",
      "130 Spelling Errors\n",
      "134 Spelling Errors\n",
      "136 Spelling Errors\n",
      "138 Spelling Errors\n",
      "140 Spelling Errors\n",
      "152 Spelling Errors\n",
      "158 Spelling Errors\n",
      "162 Spelling Errors\n",
      "194 Numeric Mismatches\n",
      "196 Numeric Mismatches\n",
      "198 Spelling Errors\n",
      "198 Numeric Mismatches\n"
     ]
    }
   ],
   "source": [
    "######delete error#######\n",
    "def click_errors(driver) :\n",
    "    irrelvant_btn_path = '//*[@id=\"modal_confirm_dialog\"]/div[2]/div/div[3]/button[2]'\n",
    "    for row in range(1,101) :\n",
    "        for kind in range(1,8) :\n",
    "            error_path = f'//*[@id=\"resources\"]/div[1]/div[2]/div[1]/div[2]/div[{row*2}]/div[3]/div/div[{kind}]/div[1]'\n",
    "            error = driver.find_element_by_xpath(error_path)\n",
    "            if error.is_displayed() :\n",
    "                print(row*2, error.text)\n",
    "                error.click()\n",
    "                irrelvant_btn= WebDriverWait(driver,10).until(EC.element_to_be_clickable((By.XPATH,irrelvant_btn_path)))\n",
    "                irrelvant_btn.click()\n",
    "click_errors(driver)"
   ]
  },
  {
   "cell_type": "code",
   "execution_count": 15,
   "metadata": {},
   "outputs": [
    {
     "name": "stderr",
     "output_type": "stream",
     "text": [
      "/Users/gwihwango/.pyenv/versions/3.7.3/lib/python3.7/site-packages/ipykernel_launcher.py:1: DeprecationWarning: find_element_by_xpath is deprecated. Please use find_element(by=By.XPATH, value=xpath) instead\n",
      "  \"\"\"Entry point for launching an IPython kernel.\n"
     ]
    }
   ],
   "source": [
    "driver.find_element_by_xpath('//*[@id=\"resources\"]/div[1]/div[2]/div[1]/div[2]/div[30]/div[3]/div/div[1]/div[1]').click()"
   ]
  }
 ],
 "metadata": {
  "kernelspec": {
   "display_name": "py_seleminum",
   "language": "python",
   "name": "py_selenium"
  },
  "language_info": {
   "codemirror_mode": {
    "name": "ipython",
    "version": 3
   },
   "file_extension": ".py",
   "mimetype": "text/x-python",
   "name": "python",
   "nbconvert_exporter": "python",
   "pygments_lexer": "ipython3",
   "version": "3.7.3"
  },
  "orig_nbformat": 4
 },
 "nbformat": 4,
 "nbformat_minor": 2
}
